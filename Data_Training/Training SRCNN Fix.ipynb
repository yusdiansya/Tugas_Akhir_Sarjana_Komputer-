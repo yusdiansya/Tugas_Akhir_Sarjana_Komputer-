{
 "cells": [
  {
   "cell_type": "code",
   "execution_count": 43,
   "metadata": {},
   "outputs": [],
   "source": [
    "import os\n",
    "os.environ[\"CUDA_VISIBLE_DEVICES\"] = \"0\""
   ]
  },
  {
   "cell_type": "code",
   "execution_count": 44,
   "metadata": {},
   "outputs": [],
   "source": [
    "import argparse\n",
    "from math import log10\n",
    "\n",
    "import torch\n",
    "import torch.nn as nn\n",
    "import torch.optim as optim\n",
    "from torch.utils.data import DataLoader\n",
    "from data import DatasetFromFolder\n",
    "from model import SRCNN\n",
    "import csv\n"
   ]
  },
  {
   "cell_type": "code",
   "execution_count": 45,
   "metadata": {},
   "outputs": [
    {
     "data": {
      "text/plain": [
       "SRCNN(\n",
       "  (conv1): Conv2d(1, 64, kernel_size=(9, 9), stride=(1, 1), padding=(4, 4))\n",
       "  (conv2): Conv2d(64, 32, kernel_size=(1, 1), stride=(1, 1))\n",
       "  (conv3): Conv2d(32, 1, kernel_size=(5, 5), stride=(1, 1), padding=(2, 2))\n",
       ")"
      ]
     },
     "execution_count": 45,
     "metadata": {},
     "output_type": "execute_result"
    }
   ],
   "source": [
    "SRCNN().eval()"
   ]
  },
  {
   "cell_type": "code",
   "execution_count": 46,
   "metadata": {},
   "outputs": [],
   "source": [
    "zoom_factor = 2\n",
    "nb_epochs = 50\n",
    "cuda = True\n"
   ]
  },
  {
   "cell_type": "code",
   "execution_count": 47,
   "metadata": {
    "scrolled": true
   },
   "outputs": [
    {
     "name": "stdout",
     "output_type": "stream",
     "text": [
      "Epoch 0. Training loss: 0.010855228337703493\n",
      "Epoch 1. Training loss: 0.0011699555514598512\n",
      "Epoch 2. Training loss: 0.0005809610934542994\n",
      "Epoch 3. Training loss: 0.0004464222672452395\n",
      "Epoch 4. Training loss: 0.00037478774332545594\n",
      "Epoch 5. Training loss: 0.0003249728540324938\n",
      "Epoch 6. Training loss: 0.0002879461892160027\n",
      "Epoch 7. Training loss: 0.0002601182854928115\n",
      "Epoch 8. Training loss: 0.0002394849191793449\n",
      "Epoch 9. Training loss: 0.00022379309234088872\n",
      "Epoch 10. Training loss: 0.00021107588487415138\n",
      "Epoch 11. Training loss: 0.00020124825042565808\n",
      "Epoch 12. Training loss: 0.00019326266584147772\n",
      "Epoch 13. Training loss: 0.00018671039331413748\n",
      "Epoch 14. Training loss: 0.00018082202309510552\n",
      "Epoch 15. Training loss: 0.00017558380278495753\n",
      "Epoch 16. Training loss: 0.0001713881008892802\n",
      "Epoch 17. Training loss: 0.0001682727658710853\n",
      "Epoch 18. Training loss: 0.00016373821176625982\n",
      "Epoch 19. Training loss: 0.0001612953169855869\n",
      "Epoch 20. Training loss: 0.00015794030940498004\n",
      "Epoch 21. Training loss: 0.0001554019149330565\n",
      "Epoch 22. Training loss: 0.00015405572455667833\n",
      "Epoch 23. Training loss: 0.0001505900402986884\n",
      "Epoch 24. Training loss: 0.00014932999563227584\n",
      "Epoch 25. Training loss: 0.00014706377827475284\n",
      "Epoch 26. Training loss: 0.00014531198305210548\n",
      "Epoch 27. Training loss: 0.00014378967789271228\n",
      "Epoch 28. Training loss: 0.00014269053085277288\n",
      "Epoch 29. Training loss: 0.00014095626832201746\n",
      "Epoch 30. Training loss: 0.00014008731978446394\n",
      "Epoch 31. Training loss: 0.00013845829632303392\n",
      "Epoch 32. Training loss: 0.0001373869595958418\n",
      "Epoch 33. Training loss: 0.00013656745047794518\n",
      "Epoch 34. Training loss: 0.00013618168894891867\n",
      "Epoch 35. Training loss: 0.00013451336687015552\n",
      "Epoch 36. Training loss: 0.00013395652178104257\n",
      "Epoch 37. Training loss: 0.00013303966261446476\n",
      "Epoch 38. Training loss: 0.00013259008846944198\n",
      "Epoch 39. Training loss: 0.00013164224166083605\n",
      "Epoch 40. Training loss: 0.00013138981874591762\n",
      "Epoch 41. Training loss: 0.00013068146578083467\n",
      "Epoch 42. Training loss: 0.0001307620953481931\n",
      "Epoch 43. Training loss: 0.00012954914078122114\n",
      "Epoch 44. Training loss: 0.00012906641645745335\n",
      "Epoch 45. Training loss: 0.0001283316712027051\n",
      "Epoch 46. Training loss: 0.0001284354430217527\n",
      "Epoch 47. Training loss: 0.00012761360363850786\n",
      "Epoch 48. Training loss: 0.00012787834449526302\n",
      "Epoch 49. Training loss: 0.00012708610520857693\n",
      "Duration: 0:02:35.522749\n"
     ]
    }
   ],
   "source": [
    "from datetime import datetime\n",
    "start_time = datetime.now()\n",
    "\n",
    "device = torch.device(\"cuda:0\" if (torch.cuda.is_available() and cuda) else \"cpu\")\n",
    "torch.manual_seed(0)\n",
    "torch.cuda.manual_seed(0)\n",
    "\n",
    "# Parameters\n",
    "BATCH_SIZE = 8\n",
    "NUM_WORKERS = 0 # on Windows, set this variable to 0\n",
    "\n",
    "trainset = DatasetFromFolder(\"train\", zoom_factor=zoom_factor)\n",
    "\n",
    "\n",
    "trainloader = DataLoader(dataset=trainset, batch_size=BATCH_SIZE, shuffle=True, num_workers=NUM_WORKERS)\n",
    "\n",
    "\n",
    "model = SRCNN().to(device)\n",
    "criterion = nn.MSELoss()\n",
    "optimizer = optim.Adam(  # we use Adam instead of SGD like in the paper, because it's faster\n",
    "    [\n",
    "        {\"params\": model.conv1.parameters(), \"lr\": 0.0001},  \n",
    "        {\"params\": model.conv2.parameters(), \"lr\": 0.0001},\n",
    "        {\"params\": model.conv3.parameters(), \"lr\": 0.0001},\n",
    "    ], lr=0.0001,\n",
    ")\n",
    "\n",
    "idx = 0\n",
    "cols = ['Nomor','Epoch','Loss']\n",
    "data_rows = []\n",
    "\n",
    "for epoch in range(nb_epochs):\n",
    "\n",
    "    # Train\n",
    "    epoch_loss = 0\n",
    "    for iteration, batch in enumerate(trainloader):\n",
    "        input, target = batch[0].to(device), batch[1].to(device)\n",
    "        optimizer.zero_grad()\n",
    "\n",
    "        out = model(input)\n",
    "        loss = criterion(out, target)\n",
    "        loss.backward()\n",
    "        optimizer.step()\n",
    "        epoch_loss += loss.item()\n",
    "    \n",
    "\n",
    "    print(f\"Epoch {epoch}. Training loss: {epoch_loss / len(trainloader)}\")\n",
    "    idx = idx + 1\n",
    "    data_rows.append([idx, epoch, epoch_loss / len(trainloader)])\n",
    "    #filewriter.writerow([idx,epoch,epoch_loss / len(trainloader)])\n",
    "    # Save model\n",
    "    # torch.save(model, f\"model/model_{epoch}.pth\")\n",
    "    torch.save({'epoch': epoch,\n",
    "                'model': model,\n",
    "                'optimizer': optimizer},\n",
    "                'model/Epoch 500 Bt 8 Upscale x8_SRCNN.pth.tar')\n",
    "\n",
    "with open('model/4.csv','w') as csvfile:\n",
    "    c = csv.writer(csvfile, delimiter = ',', quotechar = '|', quoting = csv.QUOTE_MINIMAL, dialect = 'excel')\n",
    "    c.writerow(cols);\n",
    "    c.writerows(data_rows)\n",
    "\n",
    "end_time = datetime.now()\n",
    "print('Duration: {}'.format(end_time - start_time))"
   ]
  },
  {
   "cell_type": "code",
   "execution_count": null,
   "metadata": {},
   "outputs": [],
   "source": []
  }
 ],
 "metadata": {
  "kernelspec": {
   "display_name": "Python 3",
   "language": "python",
   "name": "python3"
  },
  "language_info": {
   "codemirror_mode": {
    "name": "ipython",
    "version": 3
   },
   "file_extension": ".py",
   "mimetype": "text/x-python",
   "name": "python",
   "nbconvert_exporter": "python",
   "pygments_lexer": "ipython3",
   "version": "3.7.7"
  }
 },
 "nbformat": 4,
 "nbformat_minor": 4
}
