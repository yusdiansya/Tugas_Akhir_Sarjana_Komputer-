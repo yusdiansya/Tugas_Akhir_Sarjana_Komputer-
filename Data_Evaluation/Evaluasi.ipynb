{
 "cells": [
  {
   "cell_type": "code",
   "execution_count": 30,
   "metadata": {
    "executionInfo": {
     "elapsed": 7373,
     "status": "ok",
     "timestamp": 1616766422126,
     "user": {
      "displayName": "Rishiraj Bhosale",
      "photoUrl": "",
      "userId": "11657221070443566547"
     },
     "user_tz": -330
    },
    "id": "experimental-million"
   },
   "outputs": [],
   "source": [
    "import glob\n",
    "import random\n",
    "import os\n",
    "import numpy as np\n",
    "import pandas as pd\n",
    "import argparse\n",
    "import math\n",
    "import itertools\n",
    "import sys\n",
    "\n",
    "import torch\n",
    "from torch import nn\n",
    "import torch.nn.functional as F\n",
    "from torch.utils.data import Dataset\n",
    "from PIL import Image\n",
    "import torchvision.transforms as transforms\n",
    "\n",
    "import torchvision.transforms as transforms\n",
    "from torchvision.utils import save_image, make_grid\n",
    "\n",
    "from torch.utils.data import DataLoader\n",
    "from torch.autograd import Variable\n",
    "\n",
    "from matplotlib import pyplot as plt\n",
    "\n",
    "from pytorch_msssim import ssim, ms_ssim, SSIM, MS_SSIM\n",
    "\n",
    "# Normalization parameters for pre-trained PyTorch models\n",
    "mean = np.array([0.485, 0.456, 0.406])\n",
    "std = np.array([0.229, 0.224, 0.225])\n",
    "import sklearn"
   ]
  },
  {
   "cell_type": "code",
   "execution_count": 31,
   "metadata": {
    "executionInfo": {
     "elapsed": 7216,
     "status": "ok",
     "timestamp": 1616766422127,
     "user": {
      "displayName": "Rishiraj Bhosale",
      "photoUrl": "",
      "userId": "11657221070443566547"
     },
     "user_tz": -330
    },
    "id": "activated-campus"
   },
   "outputs": [],
   "source": [
    "final_root = \"F:/Citra Batch 3/Yusdiansya Putra/Bismillah Benar/Ukuran 256x256/SRGAN/a-PyTorch-Tutorial-to-Super-Resolution-master/SRCNN-master/data/generated/\" \n",
    "original_root = \"F:/Citra Batch 3/Yusdiansya Putra/Bismillah Benar/Ukuran 256x256/SRGAN/a-PyTorch-Tutorial-to-Super-Resolution-master/SRCNN-master/data/test1/\""
   ]
  },
  {
   "cell_type": "code",
   "execution_count": 32,
   "metadata": {
    "executionInfo": {
     "elapsed": 20633,
     "status": "ok",
     "timestamp": 1616766435811,
     "user": {
      "displayName": "Rishiraj Bhosale",
      "photoUrl": "",
      "userId": "11657221070443566547"
     },
     "user_tz": -330
    },
    "id": "young-prize"
   },
   "outputs": [],
   "source": [
    "final_paths = sorted(glob.glob(final_root + \"/*.*\"))\n",
    "original_paths = sorted(glob.glob(original_root + \"/*.*\"))"
   ]
  },
  {
   "cell_type": "code",
   "execution_count": 33,
   "metadata": {
    "colab": {
     "base_uri": "https://localhost:8080/"
    },
    "executionInfo": {
     "elapsed": 15276,
     "status": "ok",
     "timestamp": 1616766435816,
     "user": {
      "displayName": "Rishiraj Bhosale",
      "photoUrl": "",
      "userId": "11657221070443566547"
     },
     "user_tz": -330
    },
    "id": "opened-simple",
    "outputId": "dbd1572e-a26f-42ef-cf29-e779b0134b9f"
   },
   "outputs": [
    {
     "data": {
      "text/plain": [
       "(2286, 2286)"
      ]
     },
     "execution_count": 33,
     "metadata": {},
     "output_type": "execute_result"
    }
   ],
   "source": [
    "len(final_paths),len(original_paths)"
   ]
  },
  {
   "cell_type": "code",
   "execution_count": 34,
   "metadata": {
    "executionInfo": {
     "elapsed": 11681,
     "status": "ok",
     "timestamp": 1616766435817,
     "user": {
      "displayName": "Rishiraj Bhosale",
      "photoUrl": "",
      "userId": "11657221070443566547"
     },
     "user_tz": -330
    },
    "id": "first-corpus"
   },
   "outputs": [],
   "source": [
    "eva = pd.DataFrame()"
   ]
  },
  {
   "cell_type": "code",
   "execution_count": 35,
   "metadata": {
    "executionInfo": {
     "elapsed": 11211,
     "status": "ok",
     "timestamp": 1616766435817,
     "user": {
      "displayName": "Rishiraj Bhosale",
      "photoUrl": "",
      "userId": "11657221070443566547"
     },
     "user_tz": -330
    },
    "id": "eleven-default"
   },
   "outputs": [],
   "source": [
    "eva['final'] = final_paths\n",
    "eva['original'] = original_paths"
   ]
  },
  {
   "cell_type": "code",
   "execution_count": 36,
   "metadata": {
    "colab": {
     "base_uri": "https://localhost:8080/",
     "height": 402
    },
    "executionInfo": {
     "elapsed": 11023,
     "status": "ok",
     "timestamp": 1616766435818,
     "user": {
      "displayName": "Rishiraj Bhosale",
      "photoUrl": "",
      "userId": "11657221070443566547"
     },
     "user_tz": -330
    },
    "id": "searching-spectacular",
    "outputId": "dd728671-5d61-4559-f722-ed8a3bf72221",
    "scrolled": true
   },
   "outputs": [
    {
     "data": {
      "text/html": [
       "<div>\n",
       "<style scoped>\n",
       "    .dataframe tbody tr th:only-of-type {\n",
       "        vertical-align: middle;\n",
       "    }\n",
       "\n",
       "    .dataframe tbody tr th {\n",
       "        vertical-align: top;\n",
       "    }\n",
       "\n",
       "    .dataframe thead th {\n",
       "        text-align: right;\n",
       "    }\n",
       "</style>\n",
       "<table border=\"1\" class=\"dataframe\">\n",
       "  <thead>\n",
       "    <tr style=\"text-align: right;\">\n",
       "      <th></th>\n",
       "      <th>final</th>\n",
       "      <th>original</th>\n",
       "    </tr>\n",
       "  </thead>\n",
       "  <tbody>\n",
       "    <tr>\n",
       "      <th>0</th>\n",
       "      <td>F:/Citra Batch 3/Yusdiansya Putra/Bismillah Be...</td>\n",
       "      <td>F:/Citra Batch 3/Yusdiansya Putra/Bismillah Be...</td>\n",
       "    </tr>\n",
       "    <tr>\n",
       "      <th>1</th>\n",
       "      <td>F:/Citra Batch 3/Yusdiansya Putra/Bismillah Be...</td>\n",
       "      <td>F:/Citra Batch 3/Yusdiansya Putra/Bismillah Be...</td>\n",
       "    </tr>\n",
       "    <tr>\n",
       "      <th>2</th>\n",
       "      <td>F:/Citra Batch 3/Yusdiansya Putra/Bismillah Be...</td>\n",
       "      <td>F:/Citra Batch 3/Yusdiansya Putra/Bismillah Be...</td>\n",
       "    </tr>\n",
       "    <tr>\n",
       "      <th>3</th>\n",
       "      <td>F:/Citra Batch 3/Yusdiansya Putra/Bismillah Be...</td>\n",
       "      <td>F:/Citra Batch 3/Yusdiansya Putra/Bismillah Be...</td>\n",
       "    </tr>\n",
       "    <tr>\n",
       "      <th>4</th>\n",
       "      <td>F:/Citra Batch 3/Yusdiansya Putra/Bismillah Be...</td>\n",
       "      <td>F:/Citra Batch 3/Yusdiansya Putra/Bismillah Be...</td>\n",
       "    </tr>\n",
       "    <tr>\n",
       "      <th>...</th>\n",
       "      <td>...</td>\n",
       "      <td>...</td>\n",
       "    </tr>\n",
       "    <tr>\n",
       "      <th>2281</th>\n",
       "      <td>F:/Citra Batch 3/Yusdiansya Putra/Bismillah Be...</td>\n",
       "      <td>F:/Citra Batch 3/Yusdiansya Putra/Bismillah Be...</td>\n",
       "    </tr>\n",
       "    <tr>\n",
       "      <th>2282</th>\n",
       "      <td>F:/Citra Batch 3/Yusdiansya Putra/Bismillah Be...</td>\n",
       "      <td>F:/Citra Batch 3/Yusdiansya Putra/Bismillah Be...</td>\n",
       "    </tr>\n",
       "    <tr>\n",
       "      <th>2283</th>\n",
       "      <td>F:/Citra Batch 3/Yusdiansya Putra/Bismillah Be...</td>\n",
       "      <td>F:/Citra Batch 3/Yusdiansya Putra/Bismillah Be...</td>\n",
       "    </tr>\n",
       "    <tr>\n",
       "      <th>2284</th>\n",
       "      <td>F:/Citra Batch 3/Yusdiansya Putra/Bismillah Be...</td>\n",
       "      <td>F:/Citra Batch 3/Yusdiansya Putra/Bismillah Be...</td>\n",
       "    </tr>\n",
       "    <tr>\n",
       "      <th>2285</th>\n",
       "      <td>F:/Citra Batch 3/Yusdiansya Putra/Bismillah Be...</td>\n",
       "      <td>F:/Citra Batch 3/Yusdiansya Putra/Bismillah Be...</td>\n",
       "    </tr>\n",
       "  </tbody>\n",
       "</table>\n",
       "<p>2286 rows × 2 columns</p>\n",
       "</div>"
      ],
      "text/plain": [
       "                                                  final  \\\n",
       "0     F:/Citra Batch 3/Yusdiansya Putra/Bismillah Be...   \n",
       "1     F:/Citra Batch 3/Yusdiansya Putra/Bismillah Be...   \n",
       "2     F:/Citra Batch 3/Yusdiansya Putra/Bismillah Be...   \n",
       "3     F:/Citra Batch 3/Yusdiansya Putra/Bismillah Be...   \n",
       "4     F:/Citra Batch 3/Yusdiansya Putra/Bismillah Be...   \n",
       "...                                                 ...   \n",
       "2281  F:/Citra Batch 3/Yusdiansya Putra/Bismillah Be...   \n",
       "2282  F:/Citra Batch 3/Yusdiansya Putra/Bismillah Be...   \n",
       "2283  F:/Citra Batch 3/Yusdiansya Putra/Bismillah Be...   \n",
       "2284  F:/Citra Batch 3/Yusdiansya Putra/Bismillah Be...   \n",
       "2285  F:/Citra Batch 3/Yusdiansya Putra/Bismillah Be...   \n",
       "\n",
       "                                               original  \n",
       "0     F:/Citra Batch 3/Yusdiansya Putra/Bismillah Be...  \n",
       "1     F:/Citra Batch 3/Yusdiansya Putra/Bismillah Be...  \n",
       "2     F:/Citra Batch 3/Yusdiansya Putra/Bismillah Be...  \n",
       "3     F:/Citra Batch 3/Yusdiansya Putra/Bismillah Be...  \n",
       "4     F:/Citra Batch 3/Yusdiansya Putra/Bismillah Be...  \n",
       "...                                                 ...  \n",
       "2281  F:/Citra Batch 3/Yusdiansya Putra/Bismillah Be...  \n",
       "2282  F:/Citra Batch 3/Yusdiansya Putra/Bismillah Be...  \n",
       "2283  F:/Citra Batch 3/Yusdiansya Putra/Bismillah Be...  \n",
       "2284  F:/Citra Batch 3/Yusdiansya Putra/Bismillah Be...  \n",
       "2285  F:/Citra Batch 3/Yusdiansya Putra/Bismillah Be...  \n",
       "\n",
       "[2286 rows x 2 columns]"
      ]
     },
     "execution_count": 36,
     "metadata": {},
     "output_type": "execute_result"
    }
   ],
   "source": [
    "eva"
   ]
  },
  {
   "cell_type": "code",
   "execution_count": 37,
   "metadata": {
    "executionInfo": {
     "elapsed": 11626,
     "status": "ok",
     "timestamp": 1616766436580,
     "user": {
      "displayName": "Rishiraj Bhosale",
      "photoUrl": "",
      "userId": "11657221070443566547"
     },
     "user_tz": -330
    },
    "id": "english-worst"
   },
   "outputs": [],
   "source": [
    "srgan = plt.imread(eva['final'][0])\n",
    "original = plt.imread(eva['original'][0])"
   ]
  },
  {
   "cell_type": "code",
   "execution_count": 38,
   "metadata": {
    "colab": {
     "base_uri": "https://localhost:8080/"
    },
    "executionInfo": {
     "elapsed": 10765,
     "status": "ok",
     "timestamp": 1616766436580,
     "user": {
      "displayName": "Rishiraj Bhosale",
      "photoUrl": "",
      "userId": "11657221070443566547"
     },
     "user_tz": -330
    },
    "id": "reliable-pursuit",
    "outputId": "db74cead-f0c9-410f-bfd5-5c0ebf83f8db"
   },
   "outputs": [
    {
     "data": {
      "text/plain": [
       "<function torch.nn.functional.mse_loss(input: torch.Tensor, target: torch.Tensor, size_average: Union[bool, NoneType] = None, reduce: Union[bool, NoneType] = None, reduction: str = 'mean') -> torch.Tensor>"
      ]
     },
     "execution_count": 38,
     "metadata": {},
     "output_type": "execute_result"
    }
   ],
   "source": [
    "nn.functional.mse_loss"
   ]
  },
  {
   "cell_type": "code",
   "execution_count": 39,
   "metadata": {
    "executionInfo": {
     "elapsed": 11497,
     "status": "ok",
     "timestamp": 1616766437640,
     "user": {
      "displayName": "Rishiraj Bhosale",
      "photoUrl": "",
      "userId": "11657221070443566547"
     },
     "user_tz": -330
    },
    "id": "liked-compression"
   },
   "outputs": [],
   "source": [
    "j_ = plt.imread(eva['original'][0])\n",
    "l_ = plt.imread(eva['final'][0])"
   ]
  },
  {
   "cell_type": "code",
   "execution_count": 40,
   "metadata": {
    "executionInfo": {
     "elapsed": 11263,
     "status": "ok",
     "timestamp": 1616766437641,
     "user": {
      "displayName": "Rishiraj Bhosale",
      "photoUrl": "",
      "userId": "11657221070443566547"
     },
     "user_tz": -330
    },
    "id": "standard-multiple"
   },
   "outputs": [],
   "source": [
    "j = Image.open(eva['original'][0])\n",
    "l = Image.open(eva['final'][0])"
   ]
  },
  {
   "cell_type": "code",
   "execution_count": 41,
   "metadata": {
    "executionInfo": {
     "elapsed": 11015,
     "status": "ok",
     "timestamp": 1616766437641,
     "user": {
      "displayName": "Rishiraj Bhosale",
      "photoUrl": "",
      "userId": "11657221070443566547"
     },
     "user_tz": -330
    },
    "id": "powerful-composite"
   },
   "outputs": [],
   "source": [
    "transform = transforms.Compose(\n",
    "            [\n",
    "                transforms.ToTensor(),\n",
    "            ]\n",
    "        )"
   ]
  },
  {
   "cell_type": "code",
   "execution_count": 42,
   "metadata": {
    "executionInfo": {
     "elapsed": 10587,
     "status": "ok",
     "timestamp": 1616766437641,
     "user": {
      "displayName": "Rishiraj Bhosale",
      "photoUrl": "",
      "userId": "11657221070443566547"
     },
     "user_tz": -330
    },
    "id": "radical-kingston"
   },
   "outputs": [],
   "source": [
    "j = transform(j)\n",
    "l= transform(l)"
   ]
  },
  {
   "cell_type": "code",
   "execution_count": 43,
   "metadata": {
    "colab": {
     "base_uri": "https://localhost:8080/"
    },
    "executionInfo": {
     "elapsed": 10234,
     "status": "ok",
     "timestamp": 1616766437642,
     "user": {
      "displayName": "Rishiraj Bhosale",
      "photoUrl": "",
      "userId": "11657221070443566547"
     },
     "user_tz": -330
    },
    "id": "middle-bosnia",
    "outputId": "3956614a-6363-4d04-a612-36f030ad4036"
   },
   "outputs": [],
   "source": [
    "j_t = torch.from_numpy(j_.transpose((2, 0, 1))).contiguous()\n",
    "l_t = torch.from_numpy(l_.transpose((2, 0, 1))).contiguous()"
   ]
  },
  {
   "cell_type": "code",
   "execution_count": 44,
   "metadata": {
    "colab": {
     "base_uri": "https://localhost:8080/"
    },
    "executionInfo": {
     "elapsed": 9833,
     "status": "ok",
     "timestamp": 1616766437642,
     "user": {
      "displayName": "Rishiraj Bhosale",
      "photoUrl": "",
      "userId": "11657221070443566547"
     },
     "user_tz": -330
    },
    "id": "textile-engineering",
    "outputId": "dbebe2e7-2739-4eaf-8dc1-c20ed379b08d",
    "scrolled": false
   },
   "outputs": [
    {
     "data": {
      "text/plain": [
       "tensor(0.9425)"
      ]
     },
     "execution_count": 44,
     "metadata": {},
     "output_type": "execute_result"
    }
   ],
   "source": [
    "ssim(l[np.newaxis, ...]*255., j[np.newaxis, ...]*255.)"
   ]
  },
  {
   "cell_type": "code",
   "execution_count": 45,
   "metadata": {
    "colab": {
     "base_uri": "https://localhost:8080/"
    },
    "executionInfo": {
     "elapsed": 9472,
     "status": "ok",
     "timestamp": 1616766437642,
     "user": {
      "displayName": "Rishiraj Bhosale",
      "photoUrl": "",
      "userId": "11657221070443566547"
     },
     "user_tz": -330
    },
    "id": "equipped-sierra",
    "outputId": "a9afdc35-41c4-4c27-d10c-49e615fce1c3",
    "scrolled": true
   },
   "outputs": [
    {
     "data": {
      "text/plain": [
       "18.7986577351888"
      ]
     },
     "execution_count": 45,
     "metadata": {},
     "output_type": "execute_result"
    }
   ],
   "source": [
    "(np.square(l_ -j_)).mean(axis=None)"
   ]
  },
  {
   "cell_type": "code",
   "execution_count": 46,
   "metadata": {
    "colab": {
     "base_uri": "https://localhost:8080/"
    },
    "executionInfo": {
     "elapsed": 1348840,
     "status": "ok",
     "timestamp": 1616767777452,
     "user": {
      "displayName": "Rishiraj Bhosale",
      "photoUrl": "",
      "userId": "11657221070443566547"
     },
     "user_tz": -330
    },
    "id": "caring-tourist",
    "outputId": "810bcee5-091c-4b5c-eae9-a6ad524c8a45"
   },
   "outputs": [
    {
     "name": "stdout",
     "output_type": "stream",
     "text": [
      "0\n",
      "50\n",
      "100\n",
      "150\n",
      "200\n",
      "250\n",
      "300\n",
      "350\n",
      "400\n",
      "450\n",
      "500\n",
      "550\n",
      "600\n",
      "650\n",
      "700\n",
      "750\n",
      "800\n",
      "850\n",
      "900\n",
      "950\n",
      "1000\n",
      "1050\n",
      "1100\n",
      "1150\n",
      "1200\n",
      "1250\n",
      "1300\n",
      "1350\n",
      "1400\n",
      "1450\n",
      "1500\n",
      "1550\n",
      "1600\n",
      "1650\n",
      "1700\n",
      "1750\n",
      "1800\n",
      "1850\n",
      "1900\n",
      "1950\n",
      "2000\n",
      "2050\n",
      "2100\n",
      "2150\n",
      "2200\n",
      "2250\n"
     ]
    }
   ],
   "source": [
    "srgan_mse = []\n",
    "srgan_ssim = []\n",
    "\n",
    "final_mse = []\n",
    "final_ssim = []\n",
    "for i in range(len(eva)):\n",
    "    j_ = plt.imread(eva['original'][i])\n",
    "    l_ = plt.imread(eva['final'][i])\n",
    "    \n",
    "    ori = transform(Image.open(eva['original'][i]))[np.newaxis, ...]*255.\n",
    "    fin = transform(Image.open(eva['final'][i]))[np.newaxis, ...]*255.\n",
    "    \n",
    "#     final_mse.append((np.square(l_ - j_)**2/1857).mean(axis=None))\n",
    "    final_mse.append((np.square(l_ - j_)).mean(axis=None))\n",
    "    final_ssim.append(ssim(fin, ori).item())\n",
    "    \n",
    "    if i%50 == 0:\n",
    "        print(i)"
   ]
  },
  {
   "cell_type": "code",
   "execution_count": 47,
   "metadata": {
    "colab": {
     "base_uri": "https://localhost:8080/"
    },
    "executionInfo": {
     "elapsed": 1348443,
     "status": "ok",
     "timestamp": 1616767777453,
     "user": {
      "displayName": "Rishiraj Bhosale",
      "photoUrl": "",
      "userId": "11657221070443566547"
     },
     "user_tz": -330
    },
    "id": "russian-rebound",
    "outputId": "3e387efa-1746-4f91-c8fe-a756d9fe5f3d"
   },
   "outputs": [
    {
     "data": {
      "text/plain": [
       "(2286, 2286)"
      ]
     },
     "execution_count": 47,
     "metadata": {},
     "output_type": "execute_result"
    }
   ],
   "source": [
    "len(final_mse) ,len(final_ssim)"
   ]
  },
  {
   "cell_type": "code",
   "execution_count": 48,
   "metadata": {
    "executionInfo": {
     "elapsed": 1347610,
     "status": "ok",
     "timestamp": 1616767777455,
     "user": {
      "displayName": "Rishiraj Bhosale",
      "photoUrl": "",
      "userId": "11657221070443566547"
     },
     "user_tz": -330
    },
    "id": "french-edinburgh"
   },
   "outputs": [],
   "source": [
    "eva['FINAL_mse'] = final_mse\n",
    "eva['FINAL_ssim'] = final_ssim"
   ]
  },
  {
   "cell_type": "code",
   "execution_count": 49,
   "metadata": {
    "colab": {
     "base_uri": "https://localhost:8080/",
     "height": 0
    },
    "executionInfo": {
     "elapsed": 1347369,
     "status": "ok",
     "timestamp": 1616767777459,
     "user": {
      "displayName": "Rishiraj Bhosale",
      "photoUrl": "",
      "userId": "11657221070443566547"
     },
     "user_tz": -330
    },
    "id": "egyptian-camping",
    "outputId": "05950e70-e30d-4841-e41e-fac502105111",
    "scrolled": true
   },
   "outputs": [
    {
     "data": {
      "text/html": [
       "<div>\n",
       "<style scoped>\n",
       "    .dataframe tbody tr th:only-of-type {\n",
       "        vertical-align: middle;\n",
       "    }\n",
       "\n",
       "    .dataframe tbody tr th {\n",
       "        vertical-align: top;\n",
       "    }\n",
       "\n",
       "    .dataframe thead th {\n",
       "        text-align: right;\n",
       "    }\n",
       "</style>\n",
       "<table border=\"1\" class=\"dataframe\">\n",
       "  <thead>\n",
       "    <tr style=\"text-align: right;\">\n",
       "      <th></th>\n",
       "      <th>final</th>\n",
       "      <th>original</th>\n",
       "      <th>FINAL_mse</th>\n",
       "      <th>FINAL_ssim</th>\n",
       "    </tr>\n",
       "  </thead>\n",
       "  <tbody>\n",
       "    <tr>\n",
       "      <th>0</th>\n",
       "      <td>F:/Citra Batch 3/Yusdiansya Putra/Bismillah Be...</td>\n",
       "      <td>F:/Citra Batch 3/Yusdiansya Putra/Bismillah Be...</td>\n",
       "      <td>18.798658</td>\n",
       "      <td>0.942499</td>\n",
       "    </tr>\n",
       "    <tr>\n",
       "      <th>1</th>\n",
       "      <td>F:/Citra Batch 3/Yusdiansya Putra/Bismillah Be...</td>\n",
       "      <td>F:/Citra Batch 3/Yusdiansya Putra/Bismillah Be...</td>\n",
       "      <td>18.379997</td>\n",
       "      <td>0.944165</td>\n",
       "    </tr>\n",
       "    <tr>\n",
       "      <th>2</th>\n",
       "      <td>F:/Citra Batch 3/Yusdiansya Putra/Bismillah Be...</td>\n",
       "      <td>F:/Citra Batch 3/Yusdiansya Putra/Bismillah Be...</td>\n",
       "      <td>19.121117</td>\n",
       "      <td>0.943566</td>\n",
       "    </tr>\n",
       "    <tr>\n",
       "      <th>3</th>\n",
       "      <td>F:/Citra Batch 3/Yusdiansya Putra/Bismillah Be...</td>\n",
       "      <td>F:/Citra Batch 3/Yusdiansya Putra/Bismillah Be...</td>\n",
       "      <td>9.376570</td>\n",
       "      <td>0.970039</td>\n",
       "    </tr>\n",
       "    <tr>\n",
       "      <th>4</th>\n",
       "      <td>F:/Citra Batch 3/Yusdiansya Putra/Bismillah Be...</td>\n",
       "      <td>F:/Citra Batch 3/Yusdiansya Putra/Bismillah Be...</td>\n",
       "      <td>9.340355</td>\n",
       "      <td>0.970314</td>\n",
       "    </tr>\n",
       "    <tr>\n",
       "      <th>...</th>\n",
       "      <td>...</td>\n",
       "      <td>...</td>\n",
       "      <td>...</td>\n",
       "      <td>...</td>\n",
       "    </tr>\n",
       "    <tr>\n",
       "      <th>2281</th>\n",
       "      <td>F:/Citra Batch 3/Yusdiansya Putra/Bismillah Be...</td>\n",
       "      <td>F:/Citra Batch 3/Yusdiansya Putra/Bismillah Be...</td>\n",
       "      <td>9.968332</td>\n",
       "      <td>0.969786</td>\n",
       "    </tr>\n",
       "    <tr>\n",
       "      <th>2282</th>\n",
       "      <td>F:/Citra Batch 3/Yusdiansya Putra/Bismillah Be...</td>\n",
       "      <td>F:/Citra Batch 3/Yusdiansya Putra/Bismillah Be...</td>\n",
       "      <td>9.725909</td>\n",
       "      <td>0.969586</td>\n",
       "    </tr>\n",
       "    <tr>\n",
       "      <th>2283</th>\n",
       "      <td>F:/Citra Batch 3/Yusdiansya Putra/Bismillah Be...</td>\n",
       "      <td>F:/Citra Batch 3/Yusdiansya Putra/Bismillah Be...</td>\n",
       "      <td>9.470821</td>\n",
       "      <td>0.969748</td>\n",
       "    </tr>\n",
       "    <tr>\n",
       "      <th>2284</th>\n",
       "      <td>F:/Citra Batch 3/Yusdiansya Putra/Bismillah Be...</td>\n",
       "      <td>F:/Citra Batch 3/Yusdiansya Putra/Bismillah Be...</td>\n",
       "      <td>9.079403</td>\n",
       "      <td>0.970302</td>\n",
       "    </tr>\n",
       "    <tr>\n",
       "      <th>2285</th>\n",
       "      <td>F:/Citra Batch 3/Yusdiansya Putra/Bismillah Be...</td>\n",
       "      <td>F:/Citra Batch 3/Yusdiansya Putra/Bismillah Be...</td>\n",
       "      <td>9.408179</td>\n",
       "      <td>0.970022</td>\n",
       "    </tr>\n",
       "  </tbody>\n",
       "</table>\n",
       "<p>2286 rows × 4 columns</p>\n",
       "</div>"
      ],
      "text/plain": [
       "                                                  final  \\\n",
       "0     F:/Citra Batch 3/Yusdiansya Putra/Bismillah Be...   \n",
       "1     F:/Citra Batch 3/Yusdiansya Putra/Bismillah Be...   \n",
       "2     F:/Citra Batch 3/Yusdiansya Putra/Bismillah Be...   \n",
       "3     F:/Citra Batch 3/Yusdiansya Putra/Bismillah Be...   \n",
       "4     F:/Citra Batch 3/Yusdiansya Putra/Bismillah Be...   \n",
       "...                                                 ...   \n",
       "2281  F:/Citra Batch 3/Yusdiansya Putra/Bismillah Be...   \n",
       "2282  F:/Citra Batch 3/Yusdiansya Putra/Bismillah Be...   \n",
       "2283  F:/Citra Batch 3/Yusdiansya Putra/Bismillah Be...   \n",
       "2284  F:/Citra Batch 3/Yusdiansya Putra/Bismillah Be...   \n",
       "2285  F:/Citra Batch 3/Yusdiansya Putra/Bismillah Be...   \n",
       "\n",
       "                                               original  FINAL_mse  FINAL_ssim  \n",
       "0     F:/Citra Batch 3/Yusdiansya Putra/Bismillah Be...  18.798658    0.942499  \n",
       "1     F:/Citra Batch 3/Yusdiansya Putra/Bismillah Be...  18.379997    0.944165  \n",
       "2     F:/Citra Batch 3/Yusdiansya Putra/Bismillah Be...  19.121117    0.943566  \n",
       "3     F:/Citra Batch 3/Yusdiansya Putra/Bismillah Be...   9.376570    0.970039  \n",
       "4     F:/Citra Batch 3/Yusdiansya Putra/Bismillah Be...   9.340355    0.970314  \n",
       "...                                                 ...        ...         ...  \n",
       "2281  F:/Citra Batch 3/Yusdiansya Putra/Bismillah Be...   9.968332    0.969786  \n",
       "2282  F:/Citra Batch 3/Yusdiansya Putra/Bismillah Be...   9.725909    0.969586  \n",
       "2283  F:/Citra Batch 3/Yusdiansya Putra/Bismillah Be...   9.470821    0.969748  \n",
       "2284  F:/Citra Batch 3/Yusdiansya Putra/Bismillah Be...   9.079403    0.970302  \n",
       "2285  F:/Citra Batch 3/Yusdiansya Putra/Bismillah Be...   9.408179    0.970022  \n",
       "\n",
       "[2286 rows x 4 columns]"
      ]
     },
     "execution_count": 49,
     "metadata": {},
     "output_type": "execute_result"
    }
   ],
   "source": [
    "eva"
   ]
  },
  {
   "cell_type": "code",
   "execution_count": 50,
   "metadata": {
    "executionInfo": {
     "elapsed": 1347126,
     "status": "ok",
     "timestamp": 1616767777460,
     "user": {
      "displayName": "Rishiraj Bhosale",
      "photoUrl": "",
      "userId": "11657221070443566547"
     },
     "user_tz": -330
    },
    "id": "opening-picnic"
   },
   "outputs": [],
   "source": [
    "def psnr(img1, img2):\n",
    "    mse = torch.mean((img1 - img2) ** 2)\n",
    "    return 20 * torch.log10(255.0 / torch.sqrt(mse))"
   ]
  },
  {
   "cell_type": "code",
   "execution_count": 51,
   "metadata": {
    "colab": {
     "base_uri": "https://localhost:8080/"
    },
    "executionInfo": {
     "elapsed": 1346714,
     "status": "ok",
     "timestamp": 1616767777460,
     "user": {
      "displayName": "Rishiraj Bhosale",
      "photoUrl": "",
      "userId": "11657221070443566547"
     },
     "user_tz": -330
    },
    "id": "eleven-springfield",
    "outputId": "ab2362c8-88d1-4f93-88c8-f0d61012588e"
   },
   "outputs": [
    {
     "data": {
      "text/plain": [
       "tensor(32.5330)"
      ]
     },
     "execution_count": 51,
     "metadata": {},
     "output_type": "execute_result"
    }
   ],
   "source": [
    "psnr(l*255.,j*255.)"
   ]
  },
  {
   "cell_type": "code",
   "execution_count": 52,
   "metadata": {
    "colab": {
     "base_uri": "https://localhost:8080/"
    },
    "executionInfo": {
     "elapsed": 1357932,
     "status": "ok",
     "timestamp": 1616767789040,
     "user": {
      "displayName": "Rishiraj Bhosale",
      "photoUrl": "",
      "userId": "11657221070443566547"
     },
     "user_tz": -330
    },
    "id": "billion-chart",
    "outputId": "dd2b9af2-4737-4df9-c081-fb66953ffd0c"
   },
   "outputs": [
    {
     "name": "stdout",
     "output_type": "stream",
     "text": [
      "0\n",
      "50\n",
      "100\n",
      "150\n",
      "200\n",
      "250\n",
      "300\n",
      "350\n",
      "400\n",
      "450\n",
      "500\n",
      "550\n",
      "600\n",
      "650\n",
      "700\n",
      "750\n",
      "800\n",
      "850\n",
      "900\n",
      "950\n",
      "1000\n",
      "1050\n",
      "1100\n",
      "1150\n",
      "1200\n",
      "1250\n",
      "1300\n",
      "1350\n",
      "1400\n",
      "1450\n",
      "1500\n",
      "1550\n",
      "1600\n",
      "1650\n",
      "1700\n",
      "1750\n",
      "1800\n",
      "1850\n",
      "1900\n",
      "1950\n",
      "2000\n",
      "2050\n",
      "2100\n",
      "2150\n",
      "2200\n",
      "2250\n"
     ]
    }
   ],
   "source": [
    "final_psnr = []\n",
    "\n",
    "for i in range(len(eva)):\n",
    "    ori = transform(Image.open(eva['original'][i]))[np.newaxis, ...]*255.\n",
    "    fin = transform(Image.open(eva['final'][i]))[np.newaxis, ...]*255.\n",
    "\n",
    "    final_psnr.append(psnr(fin, ori).item())\n",
    "    if i%50 == 0:\n",
    "        print(i)"
   ]
  },
  {
   "cell_type": "code",
   "execution_count": 53,
   "metadata": {
    "executionInfo": {
     "elapsed": 1357570,
     "status": "ok",
     "timestamp": 1616767789040,
     "user": {
      "displayName": "Rishiraj Bhosale",
      "photoUrl": "",
      "userId": "11657221070443566547"
     },
     "user_tz": -330
    },
    "id": "early-graham"
   },
   "outputs": [],
   "source": [
    "eva['FINAL_psnr'] = final_psnr"
   ]
  },
  {
   "cell_type": "code",
   "execution_count": 54,
   "metadata": {
    "colab": {
     "base_uri": "https://localhost:8080/",
     "height": 422
    },
    "executionInfo": {
     "elapsed": 1358217,
     "status": "ok",
     "timestamp": 1616767790051,
     "user": {
      "displayName": "Rishiraj Bhosale",
      "photoUrl": "",
      "userId": "11657221070443566547"
     },
     "user_tz": -330
    },
    "id": "separated-blame",
    "outputId": "fa5f4204-f560-4813-e742-20ccfeed2d29",
    "scrolled": true
   },
   "outputs": [
    {
     "data": {
      "text/html": [
       "<div>\n",
       "<style scoped>\n",
       "    .dataframe tbody tr th:only-of-type {\n",
       "        vertical-align: middle;\n",
       "    }\n",
       "\n",
       "    .dataframe tbody tr th {\n",
       "        vertical-align: top;\n",
       "    }\n",
       "\n",
       "    .dataframe thead th {\n",
       "        text-align: right;\n",
       "    }\n",
       "</style>\n",
       "<table border=\"1\" class=\"dataframe\">\n",
       "  <thead>\n",
       "    <tr style=\"text-align: right;\">\n",
       "      <th></th>\n",
       "      <th>final</th>\n",
       "      <th>original</th>\n",
       "      <th>FINAL_mse</th>\n",
       "      <th>FINAL_ssim</th>\n",
       "      <th>FINAL_psnr</th>\n",
       "    </tr>\n",
       "  </thead>\n",
       "  <tbody>\n",
       "    <tr>\n",
       "      <th>0</th>\n",
       "      <td>F:/Citra Batch 3/Yusdiansya Putra/Bismillah Be...</td>\n",
       "      <td>F:/Citra Batch 3/Yusdiansya Putra/Bismillah Be...</td>\n",
       "      <td>18.798658</td>\n",
       "      <td>0.942499</td>\n",
       "      <td>32.532951</td>\n",
       "    </tr>\n",
       "    <tr>\n",
       "      <th>1</th>\n",
       "      <td>F:/Citra Batch 3/Yusdiansya Putra/Bismillah Be...</td>\n",
       "      <td>F:/Citra Batch 3/Yusdiansya Putra/Bismillah Be...</td>\n",
       "      <td>18.379997</td>\n",
       "      <td>0.944165</td>\n",
       "      <td>32.546062</td>\n",
       "    </tr>\n",
       "    <tr>\n",
       "      <th>2</th>\n",
       "      <td>F:/Citra Batch 3/Yusdiansya Putra/Bismillah Be...</td>\n",
       "      <td>F:/Citra Batch 3/Yusdiansya Putra/Bismillah Be...</td>\n",
       "      <td>19.121117</td>\n",
       "      <td>0.943566</td>\n",
       "      <td>32.523277</td>\n",
       "    </tr>\n",
       "    <tr>\n",
       "      <th>3</th>\n",
       "      <td>F:/Citra Batch 3/Yusdiansya Putra/Bismillah Be...</td>\n",
       "      <td>F:/Citra Batch 3/Yusdiansya Putra/Bismillah Be...</td>\n",
       "      <td>9.376570</td>\n",
       "      <td>0.970039</td>\n",
       "      <td>36.345943</td>\n",
       "    </tr>\n",
       "    <tr>\n",
       "      <th>4</th>\n",
       "      <td>F:/Citra Batch 3/Yusdiansya Putra/Bismillah Be...</td>\n",
       "      <td>F:/Citra Batch 3/Yusdiansya Putra/Bismillah Be...</td>\n",
       "      <td>9.340355</td>\n",
       "      <td>0.970314</td>\n",
       "      <td>36.352718</td>\n",
       "    </tr>\n",
       "    <tr>\n",
       "      <th>...</th>\n",
       "      <td>...</td>\n",
       "      <td>...</td>\n",
       "      <td>...</td>\n",
       "      <td>...</td>\n",
       "      <td>...</td>\n",
       "    </tr>\n",
       "    <tr>\n",
       "      <th>2281</th>\n",
       "      <td>F:/Citra Batch 3/Yusdiansya Putra/Bismillah Be...</td>\n",
       "      <td>F:/Citra Batch 3/Yusdiansya Putra/Bismillah Be...</td>\n",
       "      <td>9.968332</td>\n",
       "      <td>0.969786</td>\n",
       "      <td>36.162964</td>\n",
       "    </tr>\n",
       "    <tr>\n",
       "      <th>2282</th>\n",
       "      <td>F:/Citra Batch 3/Yusdiansya Putra/Bismillah Be...</td>\n",
       "      <td>F:/Citra Batch 3/Yusdiansya Putra/Bismillah Be...</td>\n",
       "      <td>9.725909</td>\n",
       "      <td>0.969586</td>\n",
       "      <td>36.220745</td>\n",
       "    </tr>\n",
       "    <tr>\n",
       "      <th>2283</th>\n",
       "      <td>F:/Citra Batch 3/Yusdiansya Putra/Bismillah Be...</td>\n",
       "      <td>F:/Citra Batch 3/Yusdiansya Putra/Bismillah Be...</td>\n",
       "      <td>9.470821</td>\n",
       "      <td>0.969748</td>\n",
       "      <td>36.307911</td>\n",
       "    </tr>\n",
       "    <tr>\n",
       "      <th>2284</th>\n",
       "      <td>F:/Citra Batch 3/Yusdiansya Putra/Bismillah Be...</td>\n",
       "      <td>F:/Citra Batch 3/Yusdiansya Putra/Bismillah Be...</td>\n",
       "      <td>9.079403</td>\n",
       "      <td>0.970302</td>\n",
       "      <td>36.443752</td>\n",
       "    </tr>\n",
       "    <tr>\n",
       "      <th>2285</th>\n",
       "      <td>F:/Citra Batch 3/Yusdiansya Putra/Bismillah Be...</td>\n",
       "      <td>F:/Citra Batch 3/Yusdiansya Putra/Bismillah Be...</td>\n",
       "      <td>9.408179</td>\n",
       "      <td>0.970022</td>\n",
       "      <td>36.332550</td>\n",
       "    </tr>\n",
       "  </tbody>\n",
       "</table>\n",
       "<p>2286 rows × 5 columns</p>\n",
       "</div>"
      ],
      "text/plain": [
       "                                                  final  \\\n",
       "0     F:/Citra Batch 3/Yusdiansya Putra/Bismillah Be...   \n",
       "1     F:/Citra Batch 3/Yusdiansya Putra/Bismillah Be...   \n",
       "2     F:/Citra Batch 3/Yusdiansya Putra/Bismillah Be...   \n",
       "3     F:/Citra Batch 3/Yusdiansya Putra/Bismillah Be...   \n",
       "4     F:/Citra Batch 3/Yusdiansya Putra/Bismillah Be...   \n",
       "...                                                 ...   \n",
       "2281  F:/Citra Batch 3/Yusdiansya Putra/Bismillah Be...   \n",
       "2282  F:/Citra Batch 3/Yusdiansya Putra/Bismillah Be...   \n",
       "2283  F:/Citra Batch 3/Yusdiansya Putra/Bismillah Be...   \n",
       "2284  F:/Citra Batch 3/Yusdiansya Putra/Bismillah Be...   \n",
       "2285  F:/Citra Batch 3/Yusdiansya Putra/Bismillah Be...   \n",
       "\n",
       "                                               original  FINAL_mse  \\\n",
       "0     F:/Citra Batch 3/Yusdiansya Putra/Bismillah Be...  18.798658   \n",
       "1     F:/Citra Batch 3/Yusdiansya Putra/Bismillah Be...  18.379997   \n",
       "2     F:/Citra Batch 3/Yusdiansya Putra/Bismillah Be...  19.121117   \n",
       "3     F:/Citra Batch 3/Yusdiansya Putra/Bismillah Be...   9.376570   \n",
       "4     F:/Citra Batch 3/Yusdiansya Putra/Bismillah Be...   9.340355   \n",
       "...                                                 ...        ...   \n",
       "2281  F:/Citra Batch 3/Yusdiansya Putra/Bismillah Be...   9.968332   \n",
       "2282  F:/Citra Batch 3/Yusdiansya Putra/Bismillah Be...   9.725909   \n",
       "2283  F:/Citra Batch 3/Yusdiansya Putra/Bismillah Be...   9.470821   \n",
       "2284  F:/Citra Batch 3/Yusdiansya Putra/Bismillah Be...   9.079403   \n",
       "2285  F:/Citra Batch 3/Yusdiansya Putra/Bismillah Be...   9.408179   \n",
       "\n",
       "      FINAL_ssim  FINAL_psnr  \n",
       "0       0.942499   32.532951  \n",
       "1       0.944165   32.546062  \n",
       "2       0.943566   32.523277  \n",
       "3       0.970039   36.345943  \n",
       "4       0.970314   36.352718  \n",
       "...          ...         ...  \n",
       "2281    0.969786   36.162964  \n",
       "2282    0.969586   36.220745  \n",
       "2283    0.969748   36.307911  \n",
       "2284    0.970302   36.443752  \n",
       "2285    0.970022   36.332550  \n",
       "\n",
       "[2286 rows x 5 columns]"
      ]
     },
     "execution_count": 54,
     "metadata": {},
     "output_type": "execute_result"
    }
   ],
   "source": [
    "eva"
   ]
  },
  {
   "cell_type": "code",
   "execution_count": 55,
   "metadata": {
    "executionInfo": {
     "elapsed": 1357853,
     "status": "ok",
     "timestamp": 1616767790051,
     "user": {
      "displayName": "Rishiraj Bhosale",
      "photoUrl": "",
      "userId": "11657221070443566547"
     },
     "user_tz": -330
    },
    "id": "experienced-philippines"
   },
   "outputs": [],
   "source": [
    "# eva.to_csv('F:/Citra Batch 3/Yusdiansya Putra/Bismillah Benar/Ukuran 256x256/CONVERT VIDEO KE IMAGES (LOW)/Abnormal/Create Target_test.csv')"
   ]
  },
  {
   "cell_type": "code",
   "execution_count": 56,
   "metadata": {
    "colab": {
     "base_uri": "https://localhost:8080/"
    },
    "executionInfo": {
     "elapsed": 1297,
     "status": "ok",
     "timestamp": 1616767791371,
     "user": {
      "displayName": "Rishiraj Bhosale",
      "photoUrl": "",
      "userId": "11657221070443566547"
     },
     "user_tz": -330
    },
    "id": "excess-butterfly",
    "outputId": "9c17d308-005a-435b-a9ea-a4e89f4f2bef"
   },
   "outputs": [
    {
     "name": "stdout",
     "output_type": "stream",
     "text": [
      "Average Mean Squarred Error for Final images is 14.381294057472827\n"
     ]
    }
   ],
   "source": [
    "b = np.mean(eva['FINAL_mse'])\n",
    "print('Average Mean Squarred Error for Final images is', b)"
   ]
  },
  {
   "cell_type": "code",
   "execution_count": 57,
   "metadata": {
    "colab": {
     "base_uri": "https://localhost:8080/"
    },
    "executionInfo": {
     "elapsed": 1304,
     "status": "ok",
     "timestamp": 1616767791370,
     "user": {
      "displayName": "Rishiraj Bhosale",
      "photoUrl": "",
      "userId": "11657221070443566547"
     },
     "user_tz": -330
    },
    "id": "meaningful-timer",
    "outputId": "d730550a-3f87-4a92-d023-31e3f6e1fd4c"
   },
   "outputs": [
    {
     "name": "stdout",
     "output_type": "stream",
     "text": [
      "Average SSIM for Final images is 0.9513606582153084\n"
     ]
    }
   ],
   "source": [
    "b = np.mean(eva['FINAL_ssim'])\n",
    "print('Average SSIM for Final images is', b)"
   ]
  },
  {
   "cell_type": "code",
   "execution_count": 58,
   "metadata": {
    "colab": {
     "base_uri": "https://localhost:8080/"
    },
    "executionInfo": {
     "elapsed": 1290,
     "status": "ok",
     "timestamp": 1616767791371,
     "user": {
      "displayName": "Rishiraj Bhosale",
      "photoUrl": "",
      "userId": "11657221070443566547"
     },
     "user_tz": -330
    },
    "id": "initial-payday",
    "outputId": "dd9dc30a-32ff-4c88-b916-8e85ac27bc72"
   },
   "outputs": [
    {
     "name": "stdout",
     "output_type": "stream",
     "text": [
      "Average PSNR for Final images is 33.84985818554202\n"
     ]
    }
   ],
   "source": [
    "b = np.mean(eva['FINAL_psnr'])\n",
    "print('Average PSNR for Final images is', b)"
   ]
  },
  {
   "cell_type": "code",
   "execution_count": null,
   "metadata": {},
   "outputs": [],
   "source": []
  }
 ],
 "metadata": {
  "accelerator": "GPU",
  "colab": {
   "collapsed_sections": [],
   "machine_shape": "hm",
   "name": "Evaluation_test.ipynb",
   "provenance": []
  },
  "kernelspec": {
   "display_name": "Python 3",
   "language": "python",
   "name": "python3"
  },
  "language_info": {
   "codemirror_mode": {
    "name": "ipython",
    "version": 3
   },
   "file_extension": ".py",
   "mimetype": "text/x-python",
   "name": "python",
   "nbconvert_exporter": "python",
   "pygments_lexer": "ipython3",
   "version": "3.7.7"
  }
 },
 "nbformat": 4,
 "nbformat_minor": 5
}
